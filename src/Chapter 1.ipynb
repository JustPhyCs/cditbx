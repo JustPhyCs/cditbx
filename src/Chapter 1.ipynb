{
 "metadata": {
  "name": "",
  "signature": "sha256:cdf9488fc2f21bc78d9db2a0ddb81aa9e549e10d3f2be834c9f71efb9ae8ddbe"
 },
 "nbformat": 3,
 "nbformat_minor": 0,
 "worksheets": [
  {
   "cells": [
    {
     "cell_type": "code",
     "collapsed": false,
     "input": [
      "import numpy as np\n",
      "import numpy.matlib"
     ],
     "language": "python",
     "metadata": {},
     "outputs": [],
     "prompt_number": 1
    },
    {
     "cell_type": "code",
     "collapsed": false,
     "input": [
      "# Distance between samples\n",
      "step = 1/8.\n",
      "cutoff= 5"
     ],
     "language": "python",
     "metadata": {},
     "outputs": [],
     "prompt_number": 2
    },
    {
     "cell_type": "code",
     "collapsed": false,
     "input": [
      "# Sample points on positive h-axis\n",
      "_h = np.arange(step,cutoff,step)+step"
     ],
     "language": "python",
     "metadata": {},
     "outputs": [],
     "prompt_number": 3
    },
    {
     "cell_type": "code",
     "collapsed": false,
     "input": [
      "# Add sample points on negative axis and at the origin\n",
      "# Because matlab and python and different labeling convention, so I have to make some modification to\n",
      "# get the same result as matlab program with the \n",
      "h = np.concatenate((_h[::-1], [step] ,np.zeros(1), [-step] , -_h),axis=0)\n",
      "k = h"
     ],
     "language": "python",
     "metadata": {},
     "outputs": [],
     "prompt_number": 4
    },
    {
     "cell_type": "code",
     "collapsed": false,
     "input": [
      "# Construct a two-dimensional grid\n",
      "[H,K] = np.meshgrid(h,k)\n",
      "L = np.zeros_like(K)"
     ],
     "language": "python",
     "metadata": {},
     "outputs": [],
     "prompt_number": 5
    },
    {
     "cell_type": "code",
     "collapsed": false,
     "input": [
      "# Read pdb\n",
      "class molecule(object):\n",
      "    # The class \"constructor\" - It's actually an initializer \n",
      "    def __init__(self):\n",
      "        self.name = []\n",
      "        self.x = []\n",
      "        self.y = []\n",
      "        self.z = []\n",
      "        self.tempFactor = []\n",
      "        self.element = []\n",
      "        self.charge = []\n",
      "        self.IDP=[]\n",
      "    \n",
      "    def readPDB(self, fname):\n",
      "        # COLUMNS        DATA TYPE       FIELD         DEFINITION\n",
      "        # ---------------------------------------------------------------------------------\n",
      "        #  1 -  6        Record name     \"ATOM  \"\n",
      "        #  7 - 11        Integer         serial        Atom serial number.\n",
      "        # 13 - 16        Atom            name          Atom name.\n",
      "        # 17             Character       altLoc        Alternate location indicator.\n",
      "        # 18 - 20        Residue name    resName       Residue name.\n",
      "        # 22             Character       chainID       Chain identifier.\n",
      "        # 23 - 26        Integer         resSeq        Residue sequence number.\n",
      "        # 27             AChar           iCode         Code for insertion of residues.\n",
      "        # 31 - 38        Real(8.3)       x             Orthogonal coordinates for X in\n",
      "        #                                              Angstroms.\n",
      "        # 39 - 46        Real(8.3)       y             Orthogonal coordinates for Y in\n",
      "        #                                              Angstroms.\n",
      "        # 47 - 54        Real(8.3)       z             Orthogonal coordinates for Z in\n",
      "        #                                              Angstroms.\n",
      "        # 55 - 60        Real(6.2)       occupancy     Occupancy.\n",
      "        # 61 - 66        Real(6.2)       tempFactor    Temperature factor.\n",
      "        # 73 - 76        LString(4)      segID         Segment identifier, left-justified.\n",
      "        # 77 - 78        LString(2)      element       Element symbol*, right-justified.\n",
      "        # 79 - 80        LString(2)      charge        Charge on the atom.\n",
      "        #\n",
      "        # Details for the atom name:\n",
      "        # 13 - 14    Chemical symbol* - right justified, except for hydrogen atoms\n",
      "        # 15         Remoteness indicator (alphabetic)      \n",
      "        # 16         Branch designator (numeric)            \n",
      "        #\n",
      "        #Element and chemical symbol both refer to the corresponding entry in the\n",
      "        #periodic table.\n",
      "        f = open(fname)\n",
      "        self.content = f.readlines()\n",
      "        f.close()\n",
      "        for i, val in enumerate(self.content):\n",
      "            if val[:4] == 'ATOM':\n",
      "                self.addAtom(val[11:16].strip(),\n",
      "                             float(val[30:38]), \n",
      "                             float(val[38:46]), \n",
      "                             float(val[46:54]), \n",
      "                             float(val[60:66]), \n",
      "                             val[76:78].strip(), \n",
      "                             val[78:80].strip())\n",
      "\n",
      "    def addAtom(self, name, x, y, z, tempFactor, element, charge):\n",
      "        self.name.append(name)\n",
      "        self.x.append(x)\n",
      "        self.y.append(y)\n",
      "        self.z.append(z)\n",
      "        self.tempFactor.append(tempFactor)\n",
      "        self.element.append(element)\n",
      "        self.charge.append(charge)\n",
      "        self.IDP.append(1)\n",
      "    \n",
      "    @property\n",
      "    def crd(self):\n",
      "        return [self.x, self.y, self.z]"
     ],
     "language": "python",
     "metadata": {},
     "outputs": [],
     "prompt_number": 6
    },
    {
     "cell_type": "code",
     "collapsed": false,
     "input": [
      "mol = molecule()\n",
      "mol.readPDB('/reg/neh/home5/haoyuan/software/mbptools/caffeine.pdb')\n",
      "print \"elements: \", mol.element\n",
      "print \"pos x: \", mol.x\n",
      "\n",
      "print \"coordinate[1,3]: \", mol.crd[1][3]"
     ],
     "language": "python",
     "metadata": {},
     "outputs": [
      {
       "output_type": "stream",
       "stream": "stdout",
       "text": [
        "elements:  ['N', 'C', 'C', 'C', 'C', 'N', 'N', 'N', 'C', 'C', 'C', 'C', 'O', 'O']\n",
        "pos x:  [0.011, 1.357, -0.187, 1.08, -1.022, 2.046, 1.284, -1.086, 2.643, -2.249, -1.381, 0.193, -2.541, 0.335]\n",
        "coordinate[1,3]:  0.375\n"
       ]
      }
     ],
     "prompt_number": 7
    },
    {
     "cell_type": "code",
     "collapsed": false,
     "input": [
      "class scatter_factor:\n",
      "    # The class \"constructor\" - It's actually an initializer \n",
      "    def __init__(self,sffile):\n",
      "        self.label = []\n",
      "        self.a = [[]]\n",
      "        self.b = [[]]\n",
      "        self.c = []\n",
      "        self.readsf(sffile)\n",
      "    \n",
      "    def readsf(self,sffile):\n",
      "        data= np.loadtxt(sffile, delimiter =None, comments='#', dtype=\"|S15,f8,f8,f8,f8,f8,f8,f8,f8,f8\")\n",
      "        for num in range(len(data)):\n",
      "            self.label.append(data[num][0])\n",
      "            self.a.append([data[num][l] for l in [1,3,5,7]])\n",
      "            self.b.append([data[num][l] for l in [2,4,6,8]])\n",
      "            self.c.append(data[num][9])\n",
      "        del self.a[0] \n",
      "        del self.b[0]"
     ],
     "language": "python",
     "metadata": {},
     "outputs": [],
     "prompt_number": 8
    },
    {
     "cell_type": "code",
     "collapsed": false,
     "input": [
      "def scatteringfactor(id,HKL_):\n",
      "    \n",
      "    HKL=np.array(HKL_)\n",
      "    \n",
      "    global sf\n",
      "    sf=scatter_factor('/reg/neh/home/haoyuan/software/mbptools/atomsf.lib')\n",
      "    \n",
      "    atomTypes = np.unique(id)\n",
      "    \n",
      "    f= np.zeros((len(id),HKL.shape[1]))\n",
      "   \n",
      "    stols=np.array([1./4*np.sum(np.square(HKL),axis=0)])\n",
      "    \n",
      "    for iType in range(atomTypes.shape[0]):\n",
      "              \n",
      "        try:\n",
      "            sfnr= sf.label.index(atomTypes[iType])\n",
      "        except ValueError:\n",
      "            print \"Cannot find \" + atomType[iType]+\" in atomsf.lib\"\n",
      "        \n",
      "        idx = [i for i, x in enumerate(id) if x == atomTypes[iType]]\n",
      "        \n",
      "        a=np.array([sf.a[sfnr][:]])\n",
      "        b=np.array([sf.b[sfnr][:]])\n",
      "        c=np.array([sf.c[sfnr]])\n",
      "        \n",
      "        fType = c +np.dot(a,np.exp(-stols*np.transpose(b)))\n",
      "        \n",
      "        r=np.dot(a,np.exp(-stols*np.transpose(b)))\n",
      "        \n",
      "        f[idx,:]=np.matlib.repmat(fType,len(idx),1)\n",
      "    \n",
      "    smallerthanzero=f<0\n",
      "    \n",
      "    f[smallerthanzero]=np.finfo(float).eps\n",
      "\n",
      "    return f"
     ],
     "language": "python",
     "metadata": {},
     "outputs": [],
     "prompt_number": 9
    },
    {
     "cell_type": "code",
     "collapsed": false,
     "input": [
      "def debyewallerfactor(IDP,HKL):\n",
      "    stols=np.array([1./4*np.sum(np.square(HKL),axis=0)])\n",
      "    T=np.exp(-np.dot(np.transpose(np.array([IDP])),stols))\n",
      "    \n",
      "    return T"
     ],
     "language": "python",
     "metadata": {},
     "outputs": [],
     "prompt_number": 10
    },
    {
     "cell_type": "code",
     "collapsed": false,
     "input": [
      "def structurefactor(f,R,HKL):\n",
      "    phase = -2*np.pi*np.dot(np.transpose(HKL),np.array(R))\n",
      "    F = np.sum(np.multiply(np.transpose(np.exp(1j*phase)),f),axis=0)\n",
      "    return F"
     ],
     "language": "python",
     "metadata": {},
     "outputs": [],
     "prompt_number": 11
    },
    {
     "cell_type": "code",
     "collapsed": false,
     "input": [
      "def moltrans(mol,H,K,L):\n",
      "    sizeH   = H.shape\n",
      "    nrCrds  = np.prod(sizeH)\n",
      "    nrAtoms = len(mol.crd[0])\n",
      "    maxSzMb = 32;\n",
      "    lim     = np.ceil(maxSzMb*(2**20)/(8.0*nrAtoms))\n",
      "    \n",
      "    F       = np.zeros(nrCrds,dtype=np.complex_)\n",
      "    \n",
      "    l       = 1\n",
      "    \n",
      "    H_=np.reshape(H,H.shape[0]*H.shape[1],order='F')\n",
      "    K_=np.reshape(K,H.shape[0]*H.shape[1],order='F')\n",
      "    L_=np.reshape(L,H.shape[0]*H.shape[1],order='F')\n",
      "    \n",
      "    HKL=np.array([H_,K_,L_])\n",
      "    \n",
      "    while l<= nrCrds :\n",
      "        idx   = range(min(l+lim-1,nrCrds))\n",
      "        l     = l+lim\n",
      "        f     = scatteringfactor(mol.element,HKL[:,idx])\n",
      "        f     = np.multiply(f,debyewallerfactor(mol.IDP,HKL[:,idx]))\n",
      "        F[idx]=structurefactor(f,mol.crd,HKL[:,idx])\n",
      "        \n",
      "    return np.reshape(F,H.shape)\n",
      "    "
     ],
     "language": "python",
     "metadata": {},
     "outputs": [],
     "prompt_number": 12
    },
    {
     "cell_type": "code",
     "collapsed": false,
     "input": [
      "##### The following two blocks are used for demonstration\n",
      "\n",
      "A=moltrans(mol,H,K,L)\n",
      "A.shape\n",
      "A"
     ],
     "language": "python",
     "metadata": {},
     "outputs": [
      {
       "metadata": {},
       "output_type": "pyout",
       "prompt_number": 13,
       "text": [
        "array([[ -4.25592182e-07 +5.53243433e-07j,\n",
        "          2.23191397e-06 +3.48834263e-06j,\n",
        "          1.71426123e-07 +1.12029687e-06j, ...,\n",
        "         -3.63076767e-07 +2.25292754e-06j,\n",
        "         -4.37301368e-06 +4.97805153e-06j,\n",
        "         -3.22969666e-06 -1.06099704e-06j],\n",
        "       [  6.60138262e-08 -2.16008400e-06j,\n",
        "         -1.49944683e-06 +1.36738200e-06j,\n",
        "          6.07905278e-06 -6.85678334e-07j, ...,\n",
        "          2.56038770e-06 -2.47762154e-06j,\n",
        "         -4.66261579e-06 +3.36067760e-06j,\n",
        "         -1.68900954e-06 -1.01435329e-06j],\n",
        "       [  6.42628998e-07 +5.31018969e-06j,\n",
        "         -1.32053332e-06 +3.31440637e-06j,\n",
        "          9.05848989e-06 -8.05711080e-06j, ...,\n",
        "         -6.48659135e-06 +3.66736536e-06j,\n",
        "         -4.51605979e-07 +2.01933607e-06j,\n",
        "          2.94044596e-06 -5.01946598e-06j],\n",
        "       ..., \n",
        "       [  2.94044596e-06 +5.01946598e-06j,\n",
        "         -4.51605979e-07 -2.01933607e-06j,\n",
        "         -6.48659135e-06 -3.66736536e-06j, ...,\n",
        "          9.05848989e-06 +8.05711080e-06j,\n",
        "         -1.32053332e-06 -3.31440637e-06j,\n",
        "          6.42628998e-07 -5.31018969e-06j],\n",
        "       [ -1.68900954e-06 +1.01435329e-06j,\n",
        "         -4.66261579e-06 -3.36067760e-06j,\n",
        "          2.56038770e-06 +2.47762154e-06j, ...,\n",
        "          6.07905278e-06 +6.85678334e-07j,\n",
        "         -1.49944683e-06 -1.36738200e-06j,\n",
        "          6.60138262e-08 +2.16008400e-06j],\n",
        "       [ -3.22969666e-06 +1.06099704e-06j,\n",
        "         -4.37301368e-06 -4.97805153e-06j,\n",
        "         -3.63076767e-07 -2.25292754e-06j, ...,\n",
        "          1.71426123e-07 -1.12029687e-06j,\n",
        "          2.23191397e-06 -3.48834263e-06j,\n",
        "         -4.25592182e-07 -5.53243433e-07j]])"
       ]
      }
     ],
     "prompt_number": 13
    },
    {
     "cell_type": "code",
     "collapsed": false,
     "input": [
      "H_=np.reshape(H,H.shape[0]*H.shape[1],order='F')\n",
      "K_=np.reshape(K,H.shape[0]*H.shape[1],order='F')\n",
      "L_=np.reshape(L,H.shape[0]*H.shape[1],order='F')\n",
      "\n",
      "HKL=np.array([H_,K_,L_])\n",
      "\n",
      "f=scatteringfactor('N',HKL)\n",
      "f=np.reshape(f,H.shape)\n",
      "print f.shape\n",
      "\n"
     ],
     "language": "python",
     "metadata": {},
     "outputs": [
      {
       "output_type": "stream",
       "stream": "stdout",
       "text": [
        "(81, 81)\n"
       ]
      }
     ],
     "prompt_number": 14
    },
    {
     "cell_type": "code",
     "collapsed": false,
     "input": [
      "import matplotlib as plt\n",
      "plt.pyparsing(f)\n"
     ],
     "language": "python",
     "metadata": {},
     "outputs": [
      {
       "ename": "TypeError",
       "evalue": "'module' object is not callable",
       "output_type": "pyerr",
       "traceback": [
        "\u001b[1;31m---------------------------------------------------------------------------\u001b[0m\n\u001b[1;31mTypeError\u001b[0m                                 Traceback (most recent call last)",
        "\u001b[1;32m<ipython-input-15-93e1a87e172b>\u001b[0m in \u001b[0;36m<module>\u001b[1;34m()\u001b[0m\n\u001b[0;32m      1\u001b[0m \u001b[1;32mimport\u001b[0m \u001b[0mmatplotlib\u001b[0m \u001b[1;32mas\u001b[0m \u001b[0mplt\u001b[0m\u001b[1;33m\u001b[0m\u001b[0m\n\u001b[1;32m----> 2\u001b[1;33m \u001b[0mplt\u001b[0m\u001b[1;33m.\u001b[0m\u001b[0mcolors\u001b[0m\u001b[1;33m(\u001b[0m\u001b[0mf\u001b[0m\u001b[1;33m)\u001b[0m\u001b[1;33m\u001b[0m\u001b[0m\n\u001b[0m",
        "\u001b[1;31mTypeError\u001b[0m: 'module' object is not callable"
       ]
      }
     ],
     "prompt_number": 15
    },
    {
     "cell_type": "code",
     "collapsed": false,
     "input": [],
     "language": "python",
     "metadata": {},
     "outputs": []
    }
   ],
   "metadata": {}
  }
 ]
}