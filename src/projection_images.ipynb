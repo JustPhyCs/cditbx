{
 "cells": [
  {
   "cell_type": "code",
   "execution_count": 135,
   "metadata": {
    "collapsed": true
   },
   "outputs": [],
   "source": [
    "import numpy as np"
   ]
  },
  {
   "cell_type": "code",
   "execution_count": 136,
   "metadata": {
    "collapsed": true
   },
   "outputs": [],
   "source": [
    "# Distance between samples\n",
    "step = 1/8.\n",
    "cutOff = 5"
   ]
  },
  {
   "cell_type": "code",
   "execution_count": 137,
   "metadata": {
    "collapsed": false
   },
   "outputs": [],
   "source": [
    "# Sample points on positive h-axis\n",
    "_h = np.arange(step,cutOff,step)"
   ]
  },
  {
   "cell_type": "code",
   "execution_count": 138,
   "metadata": {
    "collapsed": false
   },
   "outputs": [],
   "source": [
    "# Add sample points on negative axis and at the origin\n",
    "h = np.concatenate((_h[::-1], np.zeros(1), -_h),axis=0)\n",
    "k = h"
   ]
  },
  {
   "cell_type": "code",
   "execution_count": 139,
   "metadata": {
    "collapsed": false
   },
   "outputs": [],
   "source": [
    "# Construct a two-dimensional grid\n",
    "[H,K] = np.meshgrid(h,k)\n",
    "L = np.zeros_like(K)"
   ]
  },
  {
   "cell_type": "code",
   "execution_count": 140,
   "metadata": {
    "collapsed": true
   },
   "outputs": [],
   "source": [
    "# Read pdb\n",
    "class molecule(object):\n",
    "    # The class \"constructor\" - It's actually an initializer \n",
    "    def __init__(self):\n",
    "        self.name = []\n",
    "        self.x = []\n",
    "        self.y = []\n",
    "        self.z = []\n",
    "        self.tempFactor = []\n",
    "        self.element = []\n",
    "        self.charge = []\n",
    "    \n",
    "    def readPDB(self, fname):\n",
    "        # COLUMNS        DATA TYPE       FIELD         DEFINITION\n",
    "        # ---------------------------------------------------------------------------------\n",
    "        #  1 -  6        Record name     \"ATOM  \"\n",
    "        #  7 - 11        Integer         serial        Atom serial number.\n",
    "        # 13 - 16        Atom            name          Atom name.\n",
    "        # 17             Character       altLoc        Alternate location indicator.\n",
    "        # 18 - 20        Residue name    resName       Residue name.\n",
    "        # 22             Character       chainID       Chain identifier.\n",
    "        # 23 - 26        Integer         resSeq        Residue sequence number.\n",
    "        # 27             AChar           iCode         Code for insertion of residues.\n",
    "        # 31 - 38        Real(8.3)       x             Orthogonal coordinates for X in\n",
    "        #                                              Angstroms.\n",
    "        # 39 - 46        Real(8.3)       y             Orthogonal coordinates for Y in\n",
    "        #                                              Angstroms.\n",
    "        # 47 - 54        Real(8.3)       z             Orthogonal coordinates for Z in\n",
    "        #                                              Angstroms.\n",
    "        # 55 - 60        Real(6.2)       occupancy     Occupancy.\n",
    "        # 61 - 66        Real(6.2)       tempFactor    Temperature factor.\n",
    "        # 73 - 76        LString(4)      segID         Segment identifier, left-justified.\n",
    "        # 77 - 78        LString(2)      element       Element symbol*, right-justified.\n",
    "        # 79 - 80        LString(2)      charge        Charge on the atom.\n",
    "        #\n",
    "        # Details for the atom name:\n",
    "        # 13 - 14    Chemical symbol* - right justified, except for hydrogen atoms\n",
    "        # 15         Remoteness indicator (alphabetic)      \n",
    "        # 16         Branch designator (numeric)            \n",
    "        #\n",
    "        #Element and chemical symbol both refer to the corresponding entry in the\n",
    "        #periodic table.\n",
    "        f = open(fname)\n",
    "        self.content = f.readlines()\n",
    "        f.close()\n",
    "        for i, val in enumerate(self.content):\n",
    "            if val[:4] == 'ATOM':\n",
    "                self.addAtom(val[11:16].strip(),\n",
    "                             float(val[30:38]), \n",
    "                             float(val[38:46]), \n",
    "                             float(val[46:54]), \n",
    "                             float(val[60:66]), \n",
    "                             val[76:78].strip(), \n",
    "                             val[78:80].strip())\n",
    "\n",
    "    def addAtom(self, name, x, y, z, tempFactor, element, charge):\n",
    "        self.name.append(name)\n",
    "        self.x.append(x)\n",
    "        self.y.append(y)\n",
    "        self.z.append(z)\n",
    "        self.tempFactor.append(tempFactor)\n",
    "        self.element.append(element)\n",
    "        self.charge.append(charge)\n",
    "    \n",
    "    @property\n",
    "    def crd(self):\n",
    "        return [self.x, self.y, self.z]"
   ]
  },
  {
   "cell_type": "code",
   "execution_count": 147,
   "metadata": {
    "collapsed": false
   },
   "outputs": [
    {
     "name": "stdout",
     "output_type": "stream",
     "text": [
      "elements:  ['N', 'C', 'C', 'C', 'C', 'N', 'N', 'N', 'C', 'C', 'C', 'C', 'O', 'O']\n",
      "pos x:  [0.011, 1.357, -0.187, 1.08, -1.022, 2.046, 1.284, -1.086, 2.643, -2.249, -1.381, 0.193, -2.541, 0.335]\n",
      "coordinate[1,3]:  0.375\n"
     ]
    }
   ],
   "source": [
    "mol = molecule()\n",
    "mol.readPDB('/Users/yoon82/Downloads/mbptools/caffeine.pdb')\n",
    "print \"elements: \", mol.element\n",
    "print \"pos x: \", mol.x\n",
    "print \"coordinate[1,3]: \", mol.crd[1][3]"
   ]
  },
  {
   "cell_type": "code",
   "execution_count": 33,
   "metadata": {
    "collapsed": true
   },
   "outputs": [],
   "source": [
    "# Returns molecular transform of a molecule\n",
    "def moltrans(mol, H, K, L):\n",
    "    sizeH = H.shape\n",
    "    nrCrds = np.prod(H.shape)\n",
    "    nrAtoms = len(mol.element)\n",
    "    F = None\n",
    "    ##########################\n",
    "    # Finish the function here\n",
    "    ##########################\n",
    "    return F"
   ]
  }
 ],
 "metadata": {
  "kernelspec": {
   "display_name": "Python [Root]",
   "language": "python",
   "name": "Python [Root]"
  },
  "language_info": {
   "codemirror_mode": {
    "name": "ipython",
    "version": 2
   },
   "file_extension": ".py",
   "mimetype": "text/x-python",
   "name": "python",
   "nbconvert_exporter": "python",
   "pygments_lexer": "ipython2",
   "version": "2.7.12"
  }
 },
 "nbformat": 4,
 "nbformat_minor": 0
}
