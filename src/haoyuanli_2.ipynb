{
 "metadata": {
  "name": "",
  "signature": "sha256:99fd7c8aa6e88c60a9973c10e9af2c2aeae670086eea1a419e7bbb1f0f6c4051"
 },
 "nbformat": 3,
 "nbformat_minor": 0,
 "worksheets": [
  {
   "cells": [
    {
     "cell_type": "code",
     "collapsed": false,
     "input": [
      "import numpy as np\n",
      "import matplotlib.pyplot as plt\n",
      "from mpl_toolkits.mplot3d import Axes3D\n"
     ],
     "language": "python",
     "metadata": {},
     "outputs": [],
     "prompt_number": 123
    },
    {
     "cell_type": "code",
     "collapsed": false,
     "input": [
      "def spheresec(num=20,rad=1,th=[0,np.pi],ph=[0,2*np.pi]):\n",
      "    \n",
      "    n       = num\n",
      "    r       = rad\n",
      "    theta   = np.linspace(th[0],th[-1],n+1)\n",
      "    phi     = np.linspace(ph[0],ph[-1],n+1)\n",
      "    \n",
      "    x =  r*np.expand_dims(np.sin(theta),axis=1)*\\\n",
      "           np.expand_dims(np.cos(phi),axis=0)\n",
      "        \n",
      "    y =  r*np.expand_dims(np.sin(theta),axis=1)*\\\n",
      "           np.expand_dims(np.sin(phi),axis=0)\n",
      "        \n",
      "    z =  r*np.expand_dims(np.cos(theta),axis=1)*\\\n",
      "           np.expand_dims(np.ones(n+1),axis=0)\n",
      "            \n",
      "    return [x,y,z]\n"
     ],
     "language": "python",
     "metadata": {},
     "outputs": [],
     "prompt_number": 124
    },
    {
     "cell_type": "code",
     "collapsed": false,
     "input": [
      "def rotmatx(theta):\n",
      "    R = np.zeros((3,3))\n",
      "    R[0,:] = [1 ,              0,             0]\n",
      "    R[1,:] = [0 ,  np.cos(theta), np.sin(theta)]\n",
      "    R[2,:] = [0 , -np.sin(theta), np.cos(theta)]\n",
      "    \n",
      "    return np.array(R)\n",
      "\n",
      "    \n",
      "def rotmaty(theta):\n",
      "    R = np.zeros((3,3))\n",
      "    R[0,:] = [np.cos(theta) ,  0, -np.sin(theta)]\n",
      "    R[1,:] = [0 ,              1,              0]\n",
      "    R[2,:] = [np.sin(theta) ,  0,  np.cos(theta)]\n",
      "    \n",
      "    return np.array(R)\n",
      "    \n",
      "def rotmatz(theta):\n",
      "    R = np.zeros((3,3))\n",
      "    R[0,:] = [np.cos(theta) ,  np.sin(theta),  0]\n",
      "    R[1,:] = [-np.sin(theta),  np.cos(theta),  0]\n",
      "    R[2,:] = [0             ,              0,  1]\n",
      "\n",
      "    return np.array(R)"
     ],
     "language": "python",
     "metadata": {},
     "outputs": [],
     "prompt_number": 125
    },
    {
     "cell_type": "code",
     "collapsed": false,
     "input": [
      "def sph2rotmat(zenith, azimuth, inplane):\n",
      "    #Input should be list or float or double or int\n",
      "    \n",
      "    if np.logical_not(type(zenith) is list) :\n",
      "        R = np.dot(np.dot(rotmatz(-azimuth),rotmaty(-zenith)),\\\n",
      "                   rotmatz(azimuth-inplane))            \n",
      "    else:\n",
      "        R = np.zeros((3,3, len(zenith)*len(azimuth)*len(inplane)))\n",
      "        idx=-1\n",
      "        \n",
      "        for izen in range(len(zenith)):\n",
      "            for iaz in range(len(azimuth)):\n",
      "                for iin in range(len(inplane)):\n",
      "                    idx = idx + 1\n",
      "                    R[::,::,idx]= np.dot(np.dot(rotmatz(-azimuth[iaz]),\\\n",
      "                                  rotmaty(-zenith[izen])),\\\n",
      "                                  rotmatz(azimuth[iaz]-inplane[iin]))\n",
      "    return R\n",
      "\n",
      "##test\n",
      "#K=sph2rotmat([1,2],[1.2,2.9],[0.1,0.1])"
     ],
     "language": "python",
     "metadata": {},
     "outputs": [],
     "prompt_number": 126
    },
    {
     "cell_type": "code",
     "collapsed": false,
     "input": [
      "def ewaldsurf(lam = 1., res = 1./2, N=50,theta =0 ,phi =0,psi=0):\n",
      "    \n",
      "#function [rH, rK, rL]  = ewaldsurf(lam, res,N,phi,theta,psi)\n",
      "#phi rotates object cw around the z-axis\n",
      "#theta rotates object cw around x-axis\n",
      "#psi rotates object cw around z-axis\n",
      "#(phi is thus used to orient the object around the z-axis before\n",
      "#the rotation around the z-axis)\n",
      "  \n",
      "    if abs(res-0)<= 10*np.finfo(float).eps :\n",
      "        print \"Only the point [0,0,0] included \"\n",
      "        return\n",
      "    if (1./res > 2./lam ):\n",
      "        print \"Resolution unachievable \"\n",
      "        return\n",
      "    \n",
      "    thetaMax = np.arcsin( lam/(2.*res))\n",
      "    pol      = np.array([0, 2*thetaMax])\n",
      "    az       = np.array([0, 2*np.pi])\n",
      "    [X,Y,Z]  = spheresec(N,1./lam,pol,az)\n",
      "\n",
      "    H=np.reshape(X,X.shape[0]*X.shape[1])\n",
      "    K=np.reshape(Y,Y.shape[0]*Y.shape[1])\n",
      "    L=np.reshape(Z,Z.shape[0]*Z.shape[1])-1./lam\n",
      "    \n",
      "    #rotation\n",
      "    R = sph2rotmat(theta,phi,psi)   \n",
      "    \n",
      "    rotHKL=np.dot(np.transpose(np.array([H,K,L])),np.transpose(R))\n",
      "        \n",
      "    rotH = np.reshape(rotHKL[::,0],X.shape)\n",
      "    rotK = np.reshape(rotHKL[::,1],X.shape)\n",
      "    rotL = np.reshape(rotHKL[::,2],X.shape)\n",
      "\n",
      "    return [rotH,rotK,rotL]\n"
     ],
     "language": "python",
     "metadata": {},
     "outputs": [],
     "prompt_number": 155
    },
    {
     "cell_type": "code",
     "collapsed": false,
     "input": [
      "def ewaldmult(lam=1.,res=1./2, N= 50, phi=0.,theta=0.,psi=0.):\n",
      "            \n",
      "        \n",
      "    Cen3D = plt.figure()    \n",
      "        \n",
      "    if np.logical_not(type(theta) is list):\n",
      "        \n",
      "        [X,Y,Z] = ewaldsurf(lam,res,N,phi,theta,psi)\n",
      "        C = np.sqrt(np.square(X)+np.square(Y)+np.square(Z))\n",
      "        C = C - np.max(C)\n",
      "\n",
      "        ax = Cen3D.gca(projection='3d')\n",
      "        ax.scatter(X,Y,Z,cmap='hot',c=C)\n",
      "        ax.set_xlabel('x')\n",
      "        ax.set_ylabel('y')\n",
      "        ax.set_zlabel('z')\n",
      "        plt.show()\n",
      "        \n",
      "    else:\n",
      "\n",
      "        for l in range(len(theta)):\n",
      "            \n",
      "            [X,Y,Z] = ewaldsurf(lam,res,N,phi[l],theta[l],psi[l])\n",
      "            C = np.sqrt(np.square(X)+np.square(Y)+np.square(Z))\n",
      "            C = C - np.max(C)\n",
      "\n",
      "            ax = Cen3D.gca(projection='3d')\n",
      "            ax.scatter(X,Y,Z,cmap='hot',c=C)\n",
      "            \n",
      "        ax.set_xlabel('x')\n",
      "        ax.set_ylabel('y')\n",
      "        ax.set_zlabel('z')\n",
      "        plt.show()\n",
      "        \n",
      "    return\n",
      "\n",
      "#test\n",
      "\n",
      "ewaldmult(2, 1.3, 50, [0,1.],[2,0.4],[1.4,2.4])\n",
      "        "
     ],
     "language": "python",
     "metadata": {},
     "outputs": [],
     "prompt_number": 179
    },
    {
     "cell_type": "code",
     "collapsed": false,
     "input": [
      "#test part\n",
      "\n",
      "#A=spheresec(20,2,[1,2],[2,3])\n",
      "\n",
      "A=ewaldsurf(5.,3.,10,2.3,2,1.7)\n",
      "\n",
      "fig = plt.figure()\n",
      "ax = fig.add_subplot(111, projection='3d')\n",
      "\n",
      "x = A[0]\n",
      "y = A[1]\n",
      "z = A[2]\n",
      "\n",
      "print A[0][::,0]\n",
      "\n",
      "#ax.scatter(x, y, z)\n",
      "\n",
      "#plt.show()\n"
     ],
     "language": "python",
     "metadata": {},
     "outputs": [
      {
       "output_type": "stream",
       "stream": "stdout",
       "text": [
        "[ 0.          0.02209117  0.04572901  0.06999891  0.09396181  0.11669053\n",
        "  0.13730564  0.15500951  0.16911712  0.17908261  0.18452041]\n"
       ]
      }
     ],
     "prompt_number": 157
    },
    {
     "cell_type": "code",
     "collapsed": false,
     "input": [
      "np.max(np.random.rand(12,12))"
     ],
     "language": "python",
     "metadata": {},
     "outputs": [
      {
       "metadata": {},
       "output_type": "pyout",
       "prompt_number": 164,
       "text": [
        "0.99816774215992166"
       ]
      }
     ],
     "prompt_number": 164
    },
    {
     "cell_type": "code",
     "collapsed": false,
     "input": [],
     "language": "python",
     "metadata": {},
     "outputs": []
    }
   ],
   "metadata": {}
  }
 ]
}